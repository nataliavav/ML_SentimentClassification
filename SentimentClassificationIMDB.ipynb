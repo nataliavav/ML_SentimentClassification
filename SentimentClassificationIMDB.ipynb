{
  "nbformat": 4,
  "nbformat_minor": 0,
  "metadata": {
    "colab": {
      "provenance": [],
      "include_colab_link": true
    },
    "kernelspec": {
      "name": "python3",
      "display_name": "Python 3"
    },
    "language_info": {
      "name": "python"
    }
  },
  "cells": [
    {
      "cell_type": "markdown",
      "metadata": {
        "id": "view-in-github",
        "colab_type": "text"
      },
      "source": [
        "<a href=\"https://colab.research.google.com/github/nataliavav/ML_SentimentClassification/blob/main/SentimentClassificationIMDB.ipynb\" target=\"_parent\"><img src=\"https://colab.research.google.com/assets/colab-badge.svg\" alt=\"Open In Colab\"/></a>"
      ]
    },
    {
      "cell_type": "markdown",
      "source": [
        "# Python Sentiment Classification for database of imdb reviews\n",
        "\n",
        "-Preprocessing dataframe \n",
        "\n",
        "-Using tfidf to vectorize the review text into trainable data\n",
        "\n",
        "-Training our classifier with training data using logistic regression\n",
        "\n",
        "-Making predictions on validation data\n",
        "\n",
        "-Attempting to achieve best f1,precision and recall scores in our validation data by changing the hyperparameters of logistic regression"
      ],
      "metadata": {
        "id": "iX9uTBb_K6tI"
      }
    },
    {
      "cell_type": "code",
      "execution_count": null,
      "metadata": {
        "id": "652REVzS3cH6"
      },
      "outputs": [],
      "source": [
        "import pandas as pd\n",
        "import numpy as np\n",
        "\n",
        "from google.colab import drive\n",
        "drive.mount('/content/gdrive')"
      ]
    },
    {
      "cell_type": "markdown",
      "source": [
        "Read and print imdb database file from drive"
      ],
      "metadata": {
        "id": "1eUVz4QBwEy5"
      }
    },
    {
      "cell_type": "code",
      "source": [
        "df = pd.read_csv(\"/content/gdrive/MyDrive/imdb-reviews.csv\", sep='\\t')\n",
        "print(df)"
      ],
      "metadata": {
        "id": "ZXTDlghw9exM",
        "colab": {
          "base_uri": "https://localhost:8080/"
        },
        "outputId": "3f505548-9abe-416b-9118-863a8c4aa6c4"
      },
      "execution_count": null,
      "outputs": [
        {
          "output_type": "stream",
          "name": "stdout",
          "text": [
            "                                                    url  rating  \\\n",
            "0      http://www.imdb.com/title/tt0120623/usercomments    10.0   \n",
            "1      http://www.imdb.com/title/tt0043117/usercomments     9.0   \n",
            "2      http://www.imdb.com/title/tt0043117/usercomments    10.0   \n",
            "3      http://www.imdb.com/title/tt0835204/usercomments     4.0   \n",
            "4      http://www.imdb.com/title/tt0499603/usercomments    10.0   \n",
            "...                                                 ...     ...   \n",
            "45003  http://www.imdb.com/title/tt0449000/usercomments     1.0   \n",
            "45004  http://www.imdb.com/title/tt0109382/usercomments     1.0   \n",
            "45005  http://www.imdb.com/title/tt0375560/usercomments     1.0   \n",
            "45006  http://www.imdb.com/title/tt0165107/usercomments     1.0   \n",
            "45007  http://www.imdb.com/title/tt0041513/usercomments    10.0   \n",
            "\n",
            "                                                  review  \n",
            "0      I thought this was a quiet good movie. It was ...  \n",
            "1      Wagon Master is a very unique film amongst Joh...  \n",
            "2      This film has to be as near to perfect a film ...  \n",
            "3      I gave this 4 stars because it has a lot of in...  \n",
            "4      This movie is really genuine and random. It's ...  \n",
            "...                                                  ...  \n",
            "45003  I don't even know where to begin...<br /><br /...  \n",
            "45004  One of the worst movies I saw in the 90s. I'd ...  \n",
            "45005  Baldwin has really stooped low to make such mo...  \n",
            "45006  If you liked watching Mel Gibson in Million Do...  \n",
            "45007  This is easily the best cinematic version of W...  \n",
            "\n",
            "[45008 rows x 3 columns]\n"
          ]
        }
      ]
    },
    {
      "cell_type": "markdown",
      "source": [
        "Preprocessing - Data Cleansing"
      ],
      "metadata": {
        "id": "Hjgg3VfiwP6m"
      }
    },
    {
      "cell_type": "code",
      "source": [
        "import nltk\n",
        "from nltk.corpus import stopwords\n",
        "nltk.download('stopwords')\n",
        "stop = stopwords.words('english')\n",
        "\n",
        "def preprocess(df):\n",
        "  df = df.drop('url', axis = 1)\n",
        "  df['review'] = df['review'].str.lower()\n",
        "  df['review'] = df['review'].str.replace(\"<br />\", \" \")\n",
        "  df['review'] = df['review'].str.replace(r'http\\S+', '', regex=True).replace(r'www\\S+', '', regex=True)    # Remove urls\n",
        "  df['review'] = df['review'].str.replace('@[A-Za-z0-9_]+','')                                              # Remove mentions\n",
        "  df = df.astype(str).apply(lambda x: x.str.encode('ascii', 'ignore').str.decode('ascii'))                  # Remove emojis\n",
        "  df['review'] = df['review'].str.replace('[^\\w\\s]','')                                                     # Remove punctuation\n",
        "  df['review'] = df['review'].apply(lambda x: ' '.join([item for item in x.split() if item not in stop]))   # Remove stop words\n",
        "  return df\n",
        "\n",
        "df1 = preprocess(df)\n",
        "print(df1)"
      ],
      "metadata": {
        "id": "Rx0zYqIi7bBC",
        "colab": {
          "base_uri": "https://localhost:8080/"
        },
        "outputId": "645bfecf-5044-421f-eb44-e1a9fb714aab"
      },
      "execution_count": null,
      "outputs": [
        {
          "output_type": "stream",
          "name": "stderr",
          "text": [
            "[nltk_data] Downloading package stopwords to /root/nltk_data...\n",
            "[nltk_data]   Unzipping corpora/stopwords.zip.\n",
            "<ipython-input-4-a8338bc6aa4e>:11: FutureWarning: The default value of regex will change from True to False in a future version.\n",
            "  df['review'] = df['review'].str.replace('@[A-Za-z0-9_]+','')                                              # Remove mentions\n",
            "<ipython-input-4-a8338bc6aa4e>:13: FutureWarning: The default value of regex will change from True to False in a future version.\n",
            "  df['review'] = df['review'].str.replace('[^\\w\\s]','')                                                     # Remove punctuation\n"
          ]
        },
        {
          "output_type": "stream",
          "name": "stdout",
          "text": [
            "      rating                                             review\n",
            "0       10.0  thought quiet good movie fun watch liked best ...\n",
            "1        9.0  wagon master unique film amongst john fords wo...\n",
            "2       10.0  film near perfect film john ford made film mag...\n",
            "3        4.0  gave 4 stars lot interesting themes many alrea...\n",
            "4       10.0  movie really genuine random really hard find m...\n",
            "...      ...                                                ...\n",
            "45003    1.0  dont even know begin worth typing review quote...\n",
            "45004    1.0  one worst movies saw 90s id often use benchmar...\n",
            "45005    1.0  baldwin really stooped low make movies script ...\n",
            "45006    1.0  liked watching mel gibson million dollar hotel...\n",
            "45007   10.0  easily best cinematic version william faulkner...\n",
            "\n",
            "[45008 rows x 2 columns]\n"
          ]
        }
      ]
    },
    {
      "cell_type": "markdown",
      "source": [
        "Print the 20 most used words in the database"
      ],
      "metadata": {
        "id": "cq5E0045KnC9"
      }
    },
    {
      "cell_type": "code",
      "source": [
        "most_used_words = pd.Series(' '.join(df1['review']).split()).value_counts()[:20]\n",
        "print(most_used_words)"
      ],
      "metadata": {
        "id": "h09ZyfxgCviI",
        "colab": {
          "base_uri": "https://localhost:8080/"
        },
        "outputId": "b2275ae8-9e56-430a-d45a-984cc915bc89"
      },
      "execution_count": null,
      "outputs": [
        {
          "output_type": "stream",
          "name": "stdout",
          "text": [
            "movie     79033\n",
            "film      69432\n",
            "one       46646\n",
            "like      35623\n",
            "good      26234\n",
            "even      22402\n",
            "would     21803\n",
            "time      21669\n",
            "really    21053\n",
            "see       20650\n",
            "story     20424\n",
            "much      17425\n",
            "well      17398\n",
            "bad       16566\n",
            "get       16560\n",
            "great     16338\n",
            "people    16234\n",
            "also      16161\n",
            "dont      15596\n",
            "first     15575\n",
            "dtype: int64\n"
          ]
        }
      ]
    },
    {
      "cell_type": "markdown",
      "source": [
        "Preprocessing - Setting training and validation set."
      ],
      "metadata": {
        "id": "QJ4dm_vc4f_Y"
      }
    },
    {
      "cell_type": "code",
      "source": [
        "from sklearn.linear_model import LogisticRegression\n",
        "from sklearn.metrics import f1_score, precision_score, recall_score\n",
        "from sklearn.model_selection import train_test_split\n",
        "\n",
        "\n",
        "X = df1.drop('rating', axis=1)\n",
        "X = X.squeeze()\n",
        "Y = df1[['rating']]                 # only keep the rating\n",
        "Y = Y.replace(['7.0', '8.0', '9.0', '10.0'], 1)\n",
        "Y = Y.replace(['0.0', '1.0', '2.0', '3.0', '4.0'], 0)\n",
        "\n",
        "\n",
        "X_train, X_val, Y_train, Y_val = train_test_split(X, Y, test_size=0.15, random_state=7)"
      ],
      "metadata": {
        "id": "GztEXJMPQWZj"
      },
      "execution_count": null,
      "outputs": []
    },
    {
      "cell_type": "markdown",
      "source": [
        "Vectorize with Tfidf Vectorizer"
      ],
      "metadata": {
        "id": "DpI4huNCws5q"
      }
    },
    {
      "cell_type": "code",
      "source": [
        "from sklearn.feature_extraction.text import TfidfVectorizer\n",
        "\n",
        "tfvectorizer = TfidfVectorizer(min_df=0.01)\n",
        "X_train_tfidf = tfvectorizer.fit_transform(X_train)\n",
        "\n",
        "X_val_tfidf = tfvectorizer.transform(X_val)\n",
        "\n",
        "print(X_train_tfidf.shape)\n",
        "print(X_val_tfidf.shape)"
      ],
      "metadata": {
        "colab": {
          "base_uri": "https://localhost:8080/"
        },
        "id": "dNCoH8ufyS17",
        "outputId": "2e379246-6c01-435b-9c14-4f26d150ab2e"
      },
      "execution_count": null,
      "outputs": [
        {
          "output_type": "stream",
          "name": "stdout",
          "text": [
            "(38256, 1637)\n",
            "(6752, 1637)\n"
          ]
        }
      ]
    },
    {
      "cell_type": "markdown",
      "source": [
        "Example using what I think are the best hyperparameters with tfidf vectorizer.\n",
        "Includes f1, precision and recall scores"
      ],
      "metadata": {
        "id": "eDK8nXpmwyeN"
      }
    },
    {
      "cell_type": "code",
      "source": [
        "# Training\n",
        "classifier = LogisticRegression(C=0.1, solver='newton-cg', penalty='l2', max_iter=2000)\n",
        "classifier.fit(X_train_tfidf, np.ravel(Y_train))\n",
        "\n",
        "#Results\n",
        "predictions_train = classifier.predict(X_train_tfidf)\n",
        "predictions_val = classifier.predict(X_val_tfidf)\n",
        "\n",
        "print(\"Predictions by model:\")\n",
        "print(predictions_val)\n",
        "print(\"Actual reviews (Positive or Negative):\")\n",
        "print(np.ravel(Y_val))\n",
        "\n",
        "# F-Score\n",
        "\n",
        "f1_train = f1_score(Y_train, predictions_train)\n",
        "f1_val = f1_score(Y_val, predictions_val)\n",
        "\n",
        "print(\"\\nTraining Set:\")\n",
        "print(\"F1 Score:\", f1_train)\n",
        "\n",
        "print(\"\\nValidation Set:\")\n",
        "print(\"F1 Score:\", f1_val)\n",
        "pscore = precision_score(predictions_val, Y_val, average='macro')\n",
        "print('Precision:', pscore)\n",
        "rscore = recall_score(predictions_val, Y_val, average='macro')\n",
        "print('Recall:', rscore)"
      ],
      "metadata": {
        "id": "Skl9yDyEWzub",
        "colab": {
          "base_uri": "https://localhost:8080/"
        },
        "outputId": "2444401e-e4b9-4683-f5e1-51110ac8b5e5"
      },
      "execution_count": null,
      "outputs": [
        {
          "output_type": "stream",
          "name": "stdout",
          "text": [
            "Predictions by model:\n",
            "[0 0 1 ... 0 1 0]\n",
            "Actual reviews (Positive or Negative):\n",
            "[0 0 1 ... 1 1 0]\n",
            "\n",
            "Training Set:\n",
            "F1 Score: 0.8774872893385295\n",
            "\n",
            "Validation Set:\n",
            "F1 Score: 0.8737191513926973\n",
            "Precision: 0.8702748959979616\n",
            "Recall: 0.8710413052406454\n"
          ]
        }
      ]
    },
    {
      "cell_type": "markdown",
      "source": [
        "Plot using best hyperparameters with tfidf vectorizer, to show that my model is neither over or underfitting"
      ],
      "metadata": {
        "id": "ojC5SszlxGjX"
      }
    },
    {
      "cell_type": "code",
      "source": [
        "import matplotlib.pyplot as plt\n",
        "\n",
        "list_f1=[]\n",
        "list_f1_train=[]\n",
        "list_sample_size=[]\n",
        "\n",
        "for times in range(10):\n",
        "  \n",
        "  # Training\n",
        "  X, X_unused, y, y_unused = train_test_split(X_train_tfidf, Y_train, test_size=1 - (times * 0.1 + 0.005), random_state=0)\n",
        "\n",
        "  classifier = LogisticRegression(C=0.1, solver='newton-cg', penalty='l2', max_iter=2000)\n",
        "  classifier.fit(X, np.ravel(y))\n",
        "\n",
        "  results_train = classifier.predict(X)\n",
        "\n",
        "  # Validation\n",
        "  results = classifier.predict(X_val_tfidf)\n",
        "\n",
        "  # Score\n",
        "  f1_train = f1_score(y, results_train)\n",
        "  print(\"F1 Score Train: \" + str(f1_train))\n",
        "\n",
        "  f1 = f1_score(Y_val, results)\n",
        "  print(\"F1 Score Validation: \" + str(f1))\n",
        "\n",
        "  list_f1.append(f1)\n",
        "  list_f1_train.append(f1_train)\n",
        "  list_sample_size.append((times * 0.1 + 0.1))\n",
        "\n",
        "plt.plot(list_sample_size, list_f1)\n",
        "plt.plot(list_sample_size, list_f1_train)\n",
        "\n",
        "plt.ylim(ymin=0)\n",
        "plt.legend([\"Validation\", \"Training\"])"
      ],
      "metadata": {
        "colab": {
          "base_uri": "https://localhost:8080/",
          "height": 639
        },
        "id": "EcPPcThEkNe1",
        "outputId": "576fb1d1-fe51-48b2-b9e5-f7c707ed80b3"
      },
      "execution_count": null,
      "outputs": [
        {
          "output_type": "stream",
          "name": "stdout",
          "text": [
            "F1 Score Train: 0.8711111111111111\n",
            "F1 Score Validation: 0.7111624973722934\n",
            "F1 Score Train: 0.8740410789408561\n",
            "F1 Score Validation: 0.8564814814814814\n",
            "F1 Score Train: 0.8719590268886044\n",
            "F1 Score Validation: 0.858181818181818\n",
            "F1 Score Train: 0.8668309679612477\n",
            "F1 Score Validation: 0.8591712547087801\n",
            "F1 Score Train: 0.8702328827971317\n",
            "F1 Score Validation: 0.8680826470163271\n",
            "F1 Score Train: 0.8720077912758214\n",
            "F1 Score Validation: 0.8698541094901054\n",
            "F1 Score Train: 0.8744023224043715\n",
            "F1 Score Validation: 0.8711213739356329\n",
            "F1 Score Train: 0.875\n",
            "F1 Score Validation: 0.8701805054151625\n",
            "F1 Score Train: 0.8745110612375762\n",
            "F1 Score Validation: 0.8717504332755632\n",
            "F1 Score Train: 0.8762209401953504\n",
            "F1 Score Validation: 0.873792009231213\n"
          ]
        },
        {
          "output_type": "execute_result",
          "data": {
            "text/plain": [
              "<matplotlib.legend.Legend at 0x7f4e7d0725e0>"
            ]
          },
          "metadata": {},
          "execution_count": 15
        },
        {
          "output_type": "display_data",
          "data": {
            "text/plain": [
              "<Figure size 432x288 with 1 Axes>"
            ],
            "image/png": "[encoded data removed]"
          },
          "metadata": {
            "needs_background": "light"
          }
        }
      ]
    }
  ]
}